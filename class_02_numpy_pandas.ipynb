{
 "cells": [
  {
   "cell_type": "code",
   "execution_count": 27,
   "id": "spread-happiness",
   "metadata": {},
   "outputs": [
    {
     "name": "stdout",
     "output_type": "stream",
     "text": [
      "The autoreload extension is already loaded. To reload it, use:\n",
      "  %reload_ext autoreload\n"
     ]
    }
   ],
   "source": [
    "%matplotlib inline\n",
    "%load_ext autoreload\n",
    "%autoreload 2\n",
    "\n",
    "import numpy as np\n",
    "import pandas as pd\n",
    "import matplotlib.pyplot as plt\n",
    "import seaborn as sns\n",
    "from IPython.display import Markdown, display, HTML\n",
    "\n",
    "# Fix the dying kernel problem (only a problem in some installations - you can remove it, if it works without it)\n",
    "import os\n",
    "os.environ['KMP_DUPLICATE_LIB_OK'] = 'True'"
   ]
  },
  {
   "cell_type": "markdown",
   "id": "approximate-classic",
   "metadata": {},
   "source": [
    "# Numpy tasks\n",
    "\n",
    "For a detailed reference check out: https://numpy.org/doc/stable/reference/arrays.indexing.html."
   ]
  },
  {
   "cell_type": "markdown",
   "id": "regular-niger",
   "metadata": {},
   "source": [
    "**Task 1.** Calculate the sigmoid (logistic) function on every element of the following numpy array [0.3, 1.2, -1.4, 0.2, -0.1, 0.1, 0.8, -0.25] and print the last 5 elements. Use only vector operations."
   ]
  },
  {
   "cell_type": "code",
   "execution_count": 28,
   "id": "agreed-single",
   "metadata": {},
   "outputs": [
    {
     "name": "stdout",
     "output_type": "stream",
     "text": [
      "[0.549834   0.47502081 0.52497919 0.68997448 0.4378235 ]\n"
     ]
    }
   ],
   "source": [
    "# Write your code here\n",
    "x = np.array([0.3, 1.2, -1.4, 0.2, -0.1, 0.1, 0.8, -0.25] )\n",
    "def sigmoid(z):\n",
    "    return 1/(1 + np.exp(-z))\n",
    "\n",
    "print(sigmoid(x[-5:]))"
   ]
  },
  {
   "cell_type": "markdown",
   "id": "another-catch",
   "metadata": {},
   "source": [
    "**Task 2.** Calculate the dot product of the following two vectors:<br/>\n",
    "$x = [3, 1, 4, 2, 6, 1, 4, 8]$<br/>\n",
    "$y = [5, 2, 3, 12, 2, 4, 17, 11]$<br/>\n",
    "a) by using element-wise mutliplication and np.sum,<br/>\n",
    "b) by using np.dot,<br/>\n",
    "b) by using np.matmul and transposition (y.reshape(-1, 1), the alternative y.T will not work because T does not work on 1D arrays)."
   ]
  },
  {
   "cell_type": "code",
   "execution_count": 29,
   "id": "forbidden-journalism",
   "metadata": {},
   "outputs": [
    {
     "name": "stdout",
     "output_type": "stream",
     "text": [
      "225\n",
      "225\n",
      "225\n"
     ]
    }
   ],
   "source": [
    "# Write your code here\n",
    "x = np.array([3,1,4,2,6,1,4,8])\n",
    "y = np.array([5,2,3,12,2,4,17,11])\n",
    "print(np.sum(x*y))\n",
    "print(np.dot(x, y))\n",
    "print(np.matmul(x, y).reshape(-1,1)[0][0])"
   ]
  },
  {
   "cell_type": "markdown",
   "id": "acute-amber",
   "metadata": {},
   "source": [
    "**Task 3.** Calculate value of the logistic model<br/>\n",
    "$$y = \\frac{1}{1 + e^{-x_0 \\theta_0 - \\ldots - x_9 \\theta_9 - \\theta_{10}}}$$\n",
    "for<br/>\n",
    "$x = [1.2, 2.3, 3.4, -0.7, 4.2, 2.7, -0.5, 1.4, -3.3, 0.2]$<br/>\n",
    "$\\theta = [2.7, 0.33, -2.12, -1.73, 2.9, -5.8, -0.9, 12.11, 3.43, -0.5, -1.65]$<br/>\n",
    "and print the result. Use only vector operations."
   ]
  },
  {
   "cell_type": "code",
   "execution_count": 30,
   "id": "falling-holder",
   "metadata": {},
   "outputs": [
    {
     "name": "stdout",
     "output_type": "stream",
     "text": [
      "0.2417699832615572\n"
     ]
    }
   ],
   "source": [
    "# Write your code here\n",
    "𝑥= np.array([1.2, 2.3, 3.4, -0.7, 4.2, 2.7, -0.5, 1.4, -3.3, 0.2, 1])\n",
    "theta = np.array([2.7, 0.33, -2.12, -1.73, 2.9, -5.8, -0.9, 12.11, 3.43, -0.5, -1.65])\n",
    "z = np.sum(-x*theta)\n",
    "print(1/(1+np.exp(z)))"
   ]
  },
  {
   "cell_type": "markdown",
   "id": "encouraging-clear",
   "metadata": {},
   "source": [
    "**Task 4.** Calculate value of the multivariate linear regression model<br/>\n",
    "$$y = A x + B$$\n",
    "for<br/>\n",
    "$A = \\begin{bmatrix} 1 & 2 & 1 \\\\ 3 & 0 & 1 \\end{bmatrix}$<br/>\n",
    "$B = \\begin{bmatrix} 0.2 \\\\ 0.3 \\end{bmatrix}$<br/>\n",
    "$x = [1, 2, 3]^T$<br/>\n",
    "and print the result. Use only vector and matrix operations."
   ]
  },
  {
   "cell_type": "code",
   "execution_count": 31,
   "id": "casual-emergency",
   "metadata": {},
   "outputs": [
    {
     "name": "stdout",
     "output_type": "stream",
     "text": [
      "[[8.2]\n",
      " [6.3]]\n"
     ]
    }
   ],
   "source": [
    "# Write your code here\n",
    "A = np.array([[1, 2, 1], [3, 0, 1]])\n",
    "B = np.array([[0.2], [0.3]])\n",
    "x = np.array([[1, 2, 3]]).T\n",
    "print(np.matmul(A, x) + B)"
   ]
  },
  {
   "cell_type": "markdown",
   "id": "latter-vector",
   "metadata": {},
   "source": [
    "# Pandas"
   ]
  },
  {
   "cell_type": "markdown",
   "id": "contrary-vacuum",
   "metadata": {},
   "source": [
    "## Load datasets\n",
    "\n",
    "- Steam (https://www.kaggle.com/tamber/steam-video-games)\n",
    "\n",
    "- MovieLens (https://grouplens.org/datasets/movielens/)"
   ]
  },
  {
   "cell_type": "code",
   "execution_count": 32,
   "id": "alert-friday",
   "metadata": {},
   "outputs": [],
   "source": [
    "steam_df = pd.read_csv(os.path.join(\"data\", \"steam\", \"steam-200k.csv\"), \n",
    "                       names=['user-id', 'game-title', 'behavior-name', 'value', 'zero'])\n",
    "\n",
    "ml_ratings_df = pd.read_csv(os.path.join(\"data\", \"movielens_small\", \"ratings.csv\"))\n",
    "ml_movies_df = pd.read_csv(os.path.join(\"data\", \"movielens_small\", \"movies.csv\"))"
   ]
  },
  {
   "cell_type": "code",
   "execution_count": 33,
   "id": "765a13f2",
   "metadata": {},
   "outputs": [
    {
     "data": {
      "text/html": [
       "<div>\n",
       "<style scoped>\n",
       "    .dataframe tbody tr th:only-of-type {\n",
       "        vertical-align: middle;\n",
       "    }\n",
       "\n",
       "    .dataframe tbody tr th {\n",
       "        vertical-align: top;\n",
       "    }\n",
       "\n",
       "    .dataframe thead th {\n",
       "        text-align: right;\n",
       "    }\n",
       "</style>\n",
       "<table border=\"1\" class=\"dataframe\">\n",
       "  <thead>\n",
       "    <tr style=\"text-align: right;\">\n",
       "      <th></th>\n",
       "      <th>user-id</th>\n",
       "      <th>game-title</th>\n",
       "      <th>behavior-name</th>\n",
       "      <th>value</th>\n",
       "      <th>zero</th>\n",
       "    </tr>\n",
       "  </thead>\n",
       "  <tbody>\n",
       "    <tr>\n",
       "      <th>0</th>\n",
       "      <td>151603712</td>\n",
       "      <td>The Elder Scrolls V Skyrim</td>\n",
       "      <td>purchase</td>\n",
       "      <td>1.0</td>\n",
       "      <td>0</td>\n",
       "    </tr>\n",
       "    <tr>\n",
       "      <th>1</th>\n",
       "      <td>151603712</td>\n",
       "      <td>The Elder Scrolls V Skyrim</td>\n",
       "      <td>play</td>\n",
       "      <td>273.0</td>\n",
       "      <td>0</td>\n",
       "    </tr>\n",
       "    <tr>\n",
       "      <th>2</th>\n",
       "      <td>151603712</td>\n",
       "      <td>Fallout 4</td>\n",
       "      <td>purchase</td>\n",
       "      <td>1.0</td>\n",
       "      <td>0</td>\n",
       "    </tr>\n",
       "    <tr>\n",
       "      <th>3</th>\n",
       "      <td>151603712</td>\n",
       "      <td>Fallout 4</td>\n",
       "      <td>play</td>\n",
       "      <td>87.0</td>\n",
       "      <td>0</td>\n",
       "    </tr>\n",
       "    <tr>\n",
       "      <th>4</th>\n",
       "      <td>151603712</td>\n",
       "      <td>Spore</td>\n",
       "      <td>purchase</td>\n",
       "      <td>1.0</td>\n",
       "      <td>0</td>\n",
       "    </tr>\n",
       "    <tr>\n",
       "      <th>...</th>\n",
       "      <td>...</td>\n",
       "      <td>...</td>\n",
       "      <td>...</td>\n",
       "      <td>...</td>\n",
       "      <td>...</td>\n",
       "    </tr>\n",
       "    <tr>\n",
       "      <th>199995</th>\n",
       "      <td>128470551</td>\n",
       "      <td>Titan Souls</td>\n",
       "      <td>play</td>\n",
       "      <td>1.5</td>\n",
       "      <td>0</td>\n",
       "    </tr>\n",
       "    <tr>\n",
       "      <th>199996</th>\n",
       "      <td>128470551</td>\n",
       "      <td>Grand Theft Auto Vice City</td>\n",
       "      <td>purchase</td>\n",
       "      <td>1.0</td>\n",
       "      <td>0</td>\n",
       "    </tr>\n",
       "    <tr>\n",
       "      <th>199997</th>\n",
       "      <td>128470551</td>\n",
       "      <td>Grand Theft Auto Vice City</td>\n",
       "      <td>play</td>\n",
       "      <td>1.5</td>\n",
       "      <td>0</td>\n",
       "    </tr>\n",
       "    <tr>\n",
       "      <th>199998</th>\n",
       "      <td>128470551</td>\n",
       "      <td>RUSH</td>\n",
       "      <td>purchase</td>\n",
       "      <td>1.0</td>\n",
       "      <td>0</td>\n",
       "    </tr>\n",
       "    <tr>\n",
       "      <th>199999</th>\n",
       "      <td>128470551</td>\n",
       "      <td>RUSH</td>\n",
       "      <td>play</td>\n",
       "      <td>1.4</td>\n",
       "      <td>0</td>\n",
       "    </tr>\n",
       "  </tbody>\n",
       "</table>\n",
       "<p>200000 rows × 5 columns</p>\n",
       "</div>"
      ],
      "text/plain": [
       "          user-id                  game-title behavior-name  value  zero\n",
       "0       151603712  The Elder Scrolls V Skyrim      purchase    1.0     0\n",
       "1       151603712  The Elder Scrolls V Skyrim          play  273.0     0\n",
       "2       151603712                   Fallout 4      purchase    1.0     0\n",
       "3       151603712                   Fallout 4          play   87.0     0\n",
       "4       151603712                       Spore      purchase    1.0     0\n",
       "...           ...                         ...           ...    ...   ...\n",
       "199995  128470551                 Titan Souls          play    1.5     0\n",
       "199996  128470551  Grand Theft Auto Vice City      purchase    1.0     0\n",
       "199997  128470551  Grand Theft Auto Vice City          play    1.5     0\n",
       "199998  128470551                        RUSH      purchase    1.0     0\n",
       "199999  128470551                        RUSH          play    1.4     0\n",
       "\n",
       "[200000 rows x 5 columns]"
      ]
     },
     "execution_count": 33,
     "metadata": {},
     "output_type": "execute_result"
    }
   ],
   "source": [
    "steam_df"
   ]
  },
  {
   "cell_type": "markdown",
   "id": "alpha-portal",
   "metadata": {},
   "source": [
    "## Merge both MovieLens DataFrames into one"
   ]
  },
  {
   "cell_type": "code",
   "execution_count": 34,
   "id": "affecting-disclosure",
   "metadata": {},
   "outputs": [
    {
     "data": {
      "text/html": [
       "<div>\n",
       "<style scoped>\n",
       "    .dataframe tbody tr th:only-of-type {\n",
       "        vertical-align: middle;\n",
       "    }\n",
       "\n",
       "    .dataframe tbody tr th {\n",
       "        vertical-align: top;\n",
       "    }\n",
       "\n",
       "    .dataframe thead th {\n",
       "        text-align: right;\n",
       "    }\n",
       "</style>\n",
       "<table border=\"1\" class=\"dataframe\">\n",
       "  <thead>\n",
       "    <tr style=\"text-align: right;\">\n",
       "      <th></th>\n",
       "      <th>userId</th>\n",
       "      <th>movieId</th>\n",
       "      <th>rating</th>\n",
       "      <th>timestamp</th>\n",
       "      <th>title</th>\n",
       "      <th>genres</th>\n",
       "    </tr>\n",
       "  </thead>\n",
       "  <tbody>\n",
       "    <tr>\n",
       "      <th>0</th>\n",
       "      <td>1</td>\n",
       "      <td>1</td>\n",
       "      <td>4.0</td>\n",
       "      <td>964982703</td>\n",
       "      <td>Toy Story (1995)</td>\n",
       "      <td>Adventure|Animation|Children|Comedy|Fantasy</td>\n",
       "    </tr>\n",
       "    <tr>\n",
       "      <th>1</th>\n",
       "      <td>5</td>\n",
       "      <td>1</td>\n",
       "      <td>4.0</td>\n",
       "      <td>847434962</td>\n",
       "      <td>Toy Story (1995)</td>\n",
       "      <td>Adventure|Animation|Children|Comedy|Fantasy</td>\n",
       "    </tr>\n",
       "    <tr>\n",
       "      <th>2</th>\n",
       "      <td>7</td>\n",
       "      <td>1</td>\n",
       "      <td>4.5</td>\n",
       "      <td>1106635946</td>\n",
       "      <td>Toy Story (1995)</td>\n",
       "      <td>Adventure|Animation|Children|Comedy|Fantasy</td>\n",
       "    </tr>\n",
       "    <tr>\n",
       "      <th>3</th>\n",
       "      <td>15</td>\n",
       "      <td>1</td>\n",
       "      <td>2.5</td>\n",
       "      <td>1510577970</td>\n",
       "      <td>Toy Story (1995)</td>\n",
       "      <td>Adventure|Animation|Children|Comedy|Fantasy</td>\n",
       "    </tr>\n",
       "    <tr>\n",
       "      <th>4</th>\n",
       "      <td>17</td>\n",
       "      <td>1</td>\n",
       "      <td>4.5</td>\n",
       "      <td>1305696483</td>\n",
       "      <td>Toy Story (1995)</td>\n",
       "      <td>Adventure|Animation|Children|Comedy|Fantasy</td>\n",
       "    </tr>\n",
       "    <tr>\n",
       "      <th>5</th>\n",
       "      <td>18</td>\n",
       "      <td>1</td>\n",
       "      <td>3.5</td>\n",
       "      <td>1455209816</td>\n",
       "      <td>Toy Story (1995)</td>\n",
       "      <td>Adventure|Animation|Children|Comedy|Fantasy</td>\n",
       "    </tr>\n",
       "    <tr>\n",
       "      <th>6</th>\n",
       "      <td>19</td>\n",
       "      <td>1</td>\n",
       "      <td>4.0</td>\n",
       "      <td>965705637</td>\n",
       "      <td>Toy Story (1995)</td>\n",
       "      <td>Adventure|Animation|Children|Comedy|Fantasy</td>\n",
       "    </tr>\n",
       "    <tr>\n",
       "      <th>7</th>\n",
       "      <td>21</td>\n",
       "      <td>1</td>\n",
       "      <td>3.5</td>\n",
       "      <td>1407618878</td>\n",
       "      <td>Toy Story (1995)</td>\n",
       "      <td>Adventure|Animation|Children|Comedy|Fantasy</td>\n",
       "    </tr>\n",
       "    <tr>\n",
       "      <th>8</th>\n",
       "      <td>27</td>\n",
       "      <td>1</td>\n",
       "      <td>3.0</td>\n",
       "      <td>962685262</td>\n",
       "      <td>Toy Story (1995)</td>\n",
       "      <td>Adventure|Animation|Children|Comedy|Fantasy</td>\n",
       "    </tr>\n",
       "    <tr>\n",
       "      <th>9</th>\n",
       "      <td>31</td>\n",
       "      <td>1</td>\n",
       "      <td>5.0</td>\n",
       "      <td>850466616</td>\n",
       "      <td>Toy Story (1995)</td>\n",
       "      <td>Adventure|Animation|Children|Comedy|Fantasy</td>\n",
       "    </tr>\n",
       "  </tbody>\n",
       "</table>\n",
       "</div>"
      ],
      "text/plain": [
       "   userId  movieId  rating   timestamp             title  \\\n",
       "0       1        1     4.0   964982703  Toy Story (1995)   \n",
       "1       5        1     4.0   847434962  Toy Story (1995)   \n",
       "2       7        1     4.5  1106635946  Toy Story (1995)   \n",
       "3      15        1     2.5  1510577970  Toy Story (1995)   \n",
       "4      17        1     4.5  1305696483  Toy Story (1995)   \n",
       "5      18        1     3.5  1455209816  Toy Story (1995)   \n",
       "6      19        1     4.0   965705637  Toy Story (1995)   \n",
       "7      21        1     3.5  1407618878  Toy Story (1995)   \n",
       "8      27        1     3.0   962685262  Toy Story (1995)   \n",
       "9      31        1     5.0   850466616  Toy Story (1995)   \n",
       "\n",
       "                                        genres  \n",
       "0  Adventure|Animation|Children|Comedy|Fantasy  \n",
       "1  Adventure|Animation|Children|Comedy|Fantasy  \n",
       "2  Adventure|Animation|Children|Comedy|Fantasy  \n",
       "3  Adventure|Animation|Children|Comedy|Fantasy  \n",
       "4  Adventure|Animation|Children|Comedy|Fantasy  \n",
       "5  Adventure|Animation|Children|Comedy|Fantasy  \n",
       "6  Adventure|Animation|Children|Comedy|Fantasy  \n",
       "7  Adventure|Animation|Children|Comedy|Fantasy  \n",
       "8  Adventure|Animation|Children|Comedy|Fantasy  \n",
       "9  Adventure|Animation|Children|Comedy|Fantasy  "
      ]
     },
     "execution_count": 34,
     "metadata": {},
     "output_type": "execute_result"
    }
   ],
   "source": [
    "ml_df = pd.merge(ml_ratings_df, ml_movies_df, on='movieId')\n",
    "ml_df.head(10)"
   ]
  },
  {
   "cell_type": "markdown",
   "id": "objective-associate",
   "metadata": {},
   "source": [
    "## Pandas tasks - Steam dataset"
   ]
  },
  {
   "cell_type": "markdown",
   "id": "floppy-american",
   "metadata": {},
   "source": [
    "**Task 5.** How many people made a purchase in the Steam dataset? Remember that a person could buy many games, but you need to count every person once."
   ]
  },
  {
   "cell_type": "code",
   "execution_count": 35,
   "id": "decimal-grass",
   "metadata": {},
   "outputs": [
    {
     "name": "stdout",
     "output_type": "stream",
     "text": [
      "12393\n"
     ]
    }
   ],
   "source": [
    "# Write your code here\n",
    "steam_purchased = steam_df.loc[steam_df['behavior-name'] == 'purchase', ['user-id']]\n",
    "print(len(steam_purchased.groupby('user-id').count()))"
   ]
  },
  {
   "cell_type": "markdown",
   "id": "protected-glossary",
   "metadata": {},
   "source": [
    "**Task 6.** How many people made a purchase of \"The Elder Scrolls V Skyrim\"?"
   ]
  },
  {
   "cell_type": "code",
   "execution_count": 36,
   "id": "distant-overview",
   "metadata": {},
   "outputs": [
    {
     "name": "stdout",
     "output_type": "stream",
     "text": [
      "717\n"
     ]
    }
   ],
   "source": [
    "# Write your code here\n",
    "steam_purchased_the_elder_scrolls_v_skyrim = steam_df.loc[(steam_df['behavior-name'] == 'purchase') & (steam_df['game-title'] == 'The Elder Scrolls V Skyrim'), ['user-id']]\n",
    "print(len(steam_purchased_the_elder_scrolls_v_skyrim.groupby('user-id').count()))"
   ]
  },
  {
   "cell_type": "markdown",
   "id": "vocational-weekly",
   "metadata": {},
   "source": [
    "**Task 7.** How many purchases people made on average?"
   ]
  },
  {
   "cell_type": "code",
   "execution_count": 37,
   "id": "reflected-cathedral",
   "metadata": {},
   "outputs": [
    {
     "name": "stdout",
     "output_type": "stream",
     "text": [
      "10.45\n"
     ]
    }
   ],
   "source": [
    "# Write your code here\n",
    "steam_purchased = steam_df.loc[steam_df['behavior-name'] == 'purchase', ['user-id', 'value']]\n",
    "steam_purchased = steam_purchased.groupby('user-id').agg({'value':'sum'})\n",
    "print(round(steam_purchased['value'].sum()/len(steam_purchased),2))"
   ]
  },
  {
   "cell_type": "markdown",
   "id": "signed-transaction",
   "metadata": {},
   "source": [
    "**Task 8.** Who bought the most games?"
   ]
  },
  {
   "cell_type": "code",
   "execution_count": 38,
   "id": "handmade-revolution",
   "metadata": {},
   "outputs": [
    {
     "name": "stdout",
     "output_type": "stream",
     "text": [
      "62990992\n"
     ]
    }
   ],
   "source": [
    "# Write your code here\n",
    "steam_purchased = steam_df.loc[steam_df['behavior-name'] == 'purchase', ['user-id', 'value']]\n",
    "steam_purchased = steam_purchased.groupby('user-id').agg({'value':'sum'})\n",
    "\n",
    "print(int(steam_purchased.sort_values(by='value', ascending=False).reset_index().loc[0,:].values[0]))"
   ]
  },
  {
   "cell_type": "markdown",
   "id": "piano-bobby",
   "metadata": {},
   "source": [
    "**Task 9.** How many hours on average people played in \"The Elder Scrolls V Skyrim\"?"
   ]
  },
  {
   "cell_type": "code",
   "execution_count": 39,
   "id": "hydraulic-observation",
   "metadata": {},
   "outputs": [
    {
     "name": "stdout",
     "output_type": "stream",
     "text": [
      "104.71\n"
     ]
    }
   ],
   "source": [
    "# Write your code here\n",
    "played_grouped = steam_df.loc[(steam_df['behavior-name'] == 'play')&(steam_df['game-title']=='The Elder Scrolls V Skyrim'), ['value']]\n",
    "print(round(played_grouped['value'].sum()/len(played_grouped), 2))"
   ]
  },
  {
   "cell_type": "markdown",
   "id": "stuffed-creativity",
   "metadata": {},
   "source": [
    "**Task 10.** Which games were played the most (in terms of the number of hours played)? Display a DataFrame with the first 10 titles and respective numbers of hours."
   ]
  },
  {
   "cell_type": "code",
   "execution_count": 40,
   "id": "challenging-truck",
   "metadata": {},
   "outputs": [
    {
     "name": "stdout",
     "output_type": "stream",
     "text": [
      "                                    game-title     value\n",
      "0                                       Dota 2  981684.6\n",
      "1              Counter-Strike Global Offensive  322771.6\n",
      "2                              Team Fortress 2  173673.3\n",
      "3                               Counter-Strike  134261.1\n",
      "4                   Sid Meier's Civilization V   99821.3\n",
      "5                        Counter-Strike Source   96075.5\n",
      "6                   The Elder Scrolls V Skyrim   70889.3\n",
      "7                                  Garry's Mod   49725.3\n",
      "8  Call of Duty Modern Warfare 2 - Multiplayer   42009.9\n",
      "9                                Left 4 Dead 2   33596.7\n"
     ]
    }
   ],
   "source": [
    "# Write your code here\n",
    "most_popular_games = steam_df.loc[steam_df['behavior-name']=='play', ['game-title', 'value']]\n",
    "most_popular_games = most_popular_games.groupby('game-title').agg({'value': 'sum'}).sort_values(by='value', ascending=False).reset_index()\n",
    "print(most_popular_games.head(10))\n"
   ]
  },
  {
   "cell_type": "markdown",
   "id": "crude-petroleum",
   "metadata": {},
   "source": [
    "**Task 11.** Which games are the most consistently played (in terms of the average number of hours played)? Print a DataFrame with the first 10 titles and respective numbers of hours."
   ]
  },
  {
   "cell_type": "code",
   "execution_count": 41,
   "id": "surgical-lawsuit",
   "metadata": {},
   "outputs": [
    {
     "name": "stdout",
     "output_type": "stream",
     "text": [
      "                          game-title        value\n",
      "0            Eastside Hockey Manager  1295.000000\n",
      "1  Baldur's Gate II Enhanced Edition   475.255556\n",
      "2                    FIFA Manager 09   411.000000\n",
      "3                          Perpetuum   400.975000\n",
      "4              Football Manager 2014   391.984615\n",
      "5              Football Manager 2012   390.453165\n",
      "6              Football Manager 2010   375.048571\n",
      "7              Football Manager 2011   365.703226\n",
      "8                  Freaking Meatbags   331.000000\n",
      "9        Out of the Park Baseball 16   330.400000\n"
     ]
    }
   ],
   "source": [
    "# Write your code here\n",
    "\n",
    "most_popular_games = steam_df.loc[steam_df['behavior-name']=='play', ['game-title', 'value', 'user-id']]\n",
    "most_popular_games = most_popular_games.groupby('game-title').agg({'value': 'sum', 'user-id':'count'}).sort_values(by='value', ascending=False)\n",
    "most_popular_games['value'] = most_popular_games['value']/most_popular_games['user-id']\n",
    "most_popular_games.drop('user-id', axis=1, inplace=True)\n",
    "most_popular_games.sort_values(by='value', ascending=False, inplace=True)\n",
    "print(most_popular_games.head(10).reset_index())\n"
   ]
  },
  {
   "cell_type": "markdown",
   "id": "monetary-toyota",
   "metadata": {},
   "source": [
    "**Task 12\\*\\*.** Fix the above for the fact that 0 hours played is not listed, but only a purchase is recorded in such a case."
   ]
  },
  {
   "cell_type": "code",
   "execution_count": 42,
   "id": "protective-report",
   "metadata": {},
   "outputs": [
    {
     "name": "stdout",
     "output_type": "stream",
     "text": [
      "                    game-title        value\n",
      "0      Eastside Hockey Manager  1295.000000\n",
      "1              FIFA Manager 09   411.000000\n",
      "2                    Perpetuum   400.975000\n",
      "3        Football Manager 2012   385.572500\n",
      "4        Football Manager 2014   382.185000\n",
      "5        Football Manager 2010   345.439474\n",
      "6        Football Manager 2011   333.435294\n",
      "7  Out of the Park Baseball 16   330.400000\n",
      "8        Football Manager 2013   310.659615\n",
      "9        Football Manager 2015   307.381013\n"
     ]
    }
   ],
   "source": [
    "# Write your code here\n",
    "all_games_count = steam_df.loc[(steam_df['behavior-name'] =='purchase') , ['game-title', 'user-id']]\n",
    "players_number = all_games_count.groupby('game-title').agg({'user-id':'count'}).sort_values(by='game-title', ascending=False)\n",
    "\n",
    "most_popular_games = steam_df.loc[steam_df['behavior-name']=='play', ['game-title', 'value']]\n",
    "most_popular_games = most_popular_games.groupby('game-title').agg({'value': 'sum'}).sort_values(by='game-title', ascending=False)\n",
    "most_popular_games['value'] = most_popular_games['value']/players_number['user-id']\n",
    "most_popular_games.sort_values(by='value', ascending=False, inplace=True)\n",
    "print(most_popular_games.head(10).reset_index())"
   ]
  },
  {
   "cell_type": "markdown",
   "id": "ceramic-awareness",
   "metadata": {},
   "source": [
    "**Task 13.** Apply the sigmoid function\n",
    "$$f(x) = \\frac{1}{1 + e^{-\\frac{1}{100}x}}$$\n",
    "to hours played and print a DataFrame with the first 10 rows from the entire Steam dataset after this change."
   ]
  },
  {
   "cell_type": "code",
   "execution_count": 43,
   "id": "optical-announcement",
   "metadata": {},
   "outputs": [
    {
     "name": "stdout",
     "output_type": "stream",
     "text": [
      "     user-id                  game-title behavior-name     value  zero\n",
      "0  151603712  The Elder Scrolls V Skyrim      purchase  1.000000     0\n",
      "1  151603712  The Elder Scrolls V Skyrim          play  0.938774     0\n",
      "2  151603712                   Fallout 4      purchase  1.000000     0\n",
      "3  151603712                   Fallout 4          play  0.704746     0\n",
      "4  151603712                       Spore      purchase  1.000000     0\n",
      "5  151603712                       Spore          play  0.537181     0\n",
      "6  151603712           Fallout New Vegas      purchase  1.000000     0\n",
      "7  151603712           Fallout New Vegas          play  0.530213     0\n",
      "8  151603712               Left 4 Dead 2      purchase  1.000000     0\n",
      "9  151603712               Left 4 Dead 2          play  0.522235     0\n"
     ]
    }
   ],
   "source": [
    "steam_df_copy = steam_df.copy()\n",
    "steam_df_copy.loc[steam_df_copy['behavior-name'] == 'play', 'value'] = 1 / (1 + np.exp((-1/100)*steam_df_copy.loc[steam_df_copy['behavior-name'] == 'play', 'value']))\n",
    "print(steam_df_copy.head(10))"
   ]
  },
  {
   "cell_type": "markdown",
   "id": "actual-spotlight",
   "metadata": {},
   "source": [
    "## Pandas tasks - MovieLens dataset"
   ]
  },
  {
   "cell_type": "markdown",
   "id": "inclusive-crash",
   "metadata": {},
   "source": [
    "**Task 14\\*.** Calculate popularity (by the number of users who watched a movie) of all genres. Print a DataFrame with two columns: genre, n_users, where n_users contains the number of users who watched a given genre. Sort all genres in descending order."
   ]
  },
  {
   "cell_type": "code",
   "execution_count": 44,
   "id": "42c12ca0",
   "metadata": {},
   "outputs": [
    {
     "data": {
      "text/html": [
       "<div>\n",
       "<style scoped>\n",
       "    .dataframe tbody tr th:only-of-type {\n",
       "        vertical-align: middle;\n",
       "    }\n",
       "\n",
       "    .dataframe tbody tr th {\n",
       "        vertical-align: top;\n",
       "    }\n",
       "\n",
       "    .dataframe thead th {\n",
       "        text-align: right;\n",
       "    }\n",
       "</style>\n",
       "<table border=\"1\" class=\"dataframe\">\n",
       "  <thead>\n",
       "    <tr style=\"text-align: right;\">\n",
       "      <th></th>\n",
       "      <th>movieId</th>\n",
       "      <th>title</th>\n",
       "      <th>genres</th>\n",
       "    </tr>\n",
       "  </thead>\n",
       "  <tbody>\n",
       "    <tr>\n",
       "      <th>0</th>\n",
       "      <td>1</td>\n",
       "      <td>Toy Story (1995)</td>\n",
       "      <td>Adventure|Animation|Children|Comedy|Fantasy</td>\n",
       "    </tr>\n",
       "    <tr>\n",
       "      <th>1</th>\n",
       "      <td>2</td>\n",
       "      <td>Jumanji (1995)</td>\n",
       "      <td>Adventure|Children|Fantasy</td>\n",
       "    </tr>\n",
       "    <tr>\n",
       "      <th>2</th>\n",
       "      <td>3</td>\n",
       "      <td>Grumpier Old Men (1995)</td>\n",
       "      <td>Comedy|Romance</td>\n",
       "    </tr>\n",
       "    <tr>\n",
       "      <th>3</th>\n",
       "      <td>4</td>\n",
       "      <td>Waiting to Exhale (1995)</td>\n",
       "      <td>Comedy|Drama|Romance</td>\n",
       "    </tr>\n",
       "    <tr>\n",
       "      <th>4</th>\n",
       "      <td>5</td>\n",
       "      <td>Father of the Bride Part II (1995)</td>\n",
       "      <td>Comedy</td>\n",
       "    </tr>\n",
       "  </tbody>\n",
       "</table>\n",
       "</div>"
      ],
      "text/plain": [
       "   movieId                               title  \\\n",
       "0        1                    Toy Story (1995)   \n",
       "1        2                      Jumanji (1995)   \n",
       "2        3             Grumpier Old Men (1995)   \n",
       "3        4            Waiting to Exhale (1995)   \n",
       "4        5  Father of the Bride Part II (1995)   \n",
       "\n",
       "                                        genres  \n",
       "0  Adventure|Animation|Children|Comedy|Fantasy  \n",
       "1                   Adventure|Children|Fantasy  \n",
       "2                               Comedy|Romance  \n",
       "3                         Comedy|Drama|Romance  \n",
       "4                                       Comedy  "
      ]
     },
     "execution_count": 44,
     "metadata": {},
     "output_type": "execute_result"
    }
   ],
   "source": [
    "ml_movies_df.head()"
   ]
  },
  {
   "cell_type": "code",
   "execution_count": 45,
   "id": "7c7e4026",
   "metadata": {},
   "outputs": [
    {
     "data": {
      "text/html": [
       "<div>\n",
       "<style scoped>\n",
       "    .dataframe tbody tr th:only-of-type {\n",
       "        vertical-align: middle;\n",
       "    }\n",
       "\n",
       "    .dataframe tbody tr th {\n",
       "        vertical-align: top;\n",
       "    }\n",
       "\n",
       "    .dataframe thead th {\n",
       "        text-align: right;\n",
       "    }\n",
       "</style>\n",
       "<table border=\"1\" class=\"dataframe\">\n",
       "  <thead>\n",
       "    <tr style=\"text-align: right;\">\n",
       "      <th></th>\n",
       "      <th>userId</th>\n",
       "      <th>movieId</th>\n",
       "      <th>rating</th>\n",
       "      <th>timestamp</th>\n",
       "    </tr>\n",
       "  </thead>\n",
       "  <tbody>\n",
       "    <tr>\n",
       "      <th>0</th>\n",
       "      <td>1</td>\n",
       "      <td>1</td>\n",
       "      <td>4.0</td>\n",
       "      <td>964982703</td>\n",
       "    </tr>\n",
       "    <tr>\n",
       "      <th>1</th>\n",
       "      <td>1</td>\n",
       "      <td>3</td>\n",
       "      <td>4.0</td>\n",
       "      <td>964981247</td>\n",
       "    </tr>\n",
       "    <tr>\n",
       "      <th>2</th>\n",
       "      <td>1</td>\n",
       "      <td>6</td>\n",
       "      <td>4.0</td>\n",
       "      <td>964982224</td>\n",
       "    </tr>\n",
       "    <tr>\n",
       "      <th>3</th>\n",
       "      <td>1</td>\n",
       "      <td>47</td>\n",
       "      <td>5.0</td>\n",
       "      <td>964983815</td>\n",
       "    </tr>\n",
       "    <tr>\n",
       "      <th>4</th>\n",
       "      <td>1</td>\n",
       "      <td>50</td>\n",
       "      <td>5.0</td>\n",
       "      <td>964982931</td>\n",
       "    </tr>\n",
       "  </tbody>\n",
       "</table>\n",
       "</div>"
      ],
      "text/plain": [
       "   userId  movieId  rating  timestamp\n",
       "0       1        1     4.0  964982703\n",
       "1       1        3     4.0  964981247\n",
       "2       1        6     4.0  964982224\n",
       "3       1       47     5.0  964983815\n",
       "4       1       50     5.0  964982931"
      ]
     },
     "execution_count": 45,
     "metadata": {},
     "output_type": "execute_result"
    }
   ],
   "source": [
    "ml_ratings_df.head()"
   ]
  },
  {
   "cell_type": "code",
   "execution_count": 46,
   "id": "developmental-seven",
   "metadata": {},
   "outputs": [
    {
     "name": "stdout",
     "output_type": "stream",
     "text": [
      "                 genre  n_users\n",
      "0                Drama    41928\n",
      "1               Comedy    39053\n",
      "2               Action    30635\n",
      "3             Thriller    26452\n",
      "4            Adventure    24161\n",
      "5              Romance    18124\n",
      "6               Sci-Fi    17243\n",
      "7                Crime    16681\n",
      "8              Fantasy    11834\n",
      "9             Children     9208\n",
      "10             Mystery     7674\n",
      "11              Horror     7291\n",
      "12           Animation     6988\n",
      "13                 War     4859\n",
      "14                IMAX     4145\n",
      "15             Musical     4138\n",
      "16             Western     1930\n",
      "17         Documentary     1219\n",
      "18           Film-Noir      870\n",
      "19  (no genres listed)       47\n"
     ]
    }
   ],
   "source": [
    "# Write your code here\n",
    "df = ml_df.copy()\n",
    "df['genres'] = df[\"genres\"].str.split(\"|\", expand = False)\n",
    "df = df.explode(\"genres\")\n",
    "df = df.rename(columns={'genres': 'genre'})\n",
    "df = df.groupby('genre').agg({'userId':'count'}).sort_values(by='userId', ascending=False).rename(columns = {'userId': 'n_users'})\n",
    "print(df.reset_index())"
   ]
  },
  {
   "cell_type": "markdown",
   "id": "personalized-finland",
   "metadata": {},
   "source": [
    "**Task 15\\*.** Calculate average rating for all genres. Print a DataFrame with two columns: genre, rating, where rating contains the average rating for a given genre. Sort all genres in descending order."
   ]
  },
  {
   "cell_type": "code",
   "execution_count": 48,
   "id": "inside-personal",
   "metadata": {},
   "outputs": [
    {
     "name": "stdout",
     "output_type": "stream",
     "text": [
      "                 genre    rating\n",
      "0            Film-Noir  3.920115\n",
      "1                  War  3.808294\n",
      "2          Documentary  3.797785\n",
      "3                Crime  3.658294\n",
      "4                Drama  3.656184\n",
      "5              Mystery  3.632460\n",
      "6            Animation  3.629937\n",
      "7                 IMAX  3.618335\n",
      "8              Western  3.583938\n",
      "9              Musical  3.563678\n",
      "10           Adventure  3.508609\n",
      "11             Romance  3.506511\n",
      "12            Thriller  3.493706\n",
      "13             Fantasy  3.491001\n",
      "14  (no genres listed)  3.489362\n",
      "15              Sci-Fi  3.455721\n",
      "16              Action  3.447984\n",
      "17            Children  3.412956\n",
      "18              Comedy  3.384721\n",
      "19              Horror  3.258195\n"
     ]
    }
   ],
   "source": [
    "# Write your code here\n",
    "df = ml_df.copy()\n",
    "df['genres'] = df[\"genres\"].str.split(\"|\", expand = False)\n",
    "df = df.explode(\"genres\")\n",
    "df = df.rename(columns={'genres': 'genre'})\n",
    "df = df.groupby('genre').agg({'userId':'count', 'rating':'sum'}).rename(columns = {'userId': 'n_users'})\n",
    "df['rating'] = df['rating']/df['n_users']\n",
    "df = df.drop('n_users', axis=1).sort_values('rating', ascending=False)\n",
    "print(df.reset_index())"
   ]
  },
  {
   "cell_type": "markdown",
   "id": "vertical-stick",
   "metadata": {},
   "source": [
    "**Task 16.** Calculate each movie rating bias (deviation from the mean of all movies average rating). Print a DataFrame with the first 10 in the form: title, average rating, bias."
   ]
  },
  {
   "cell_type": "code",
   "execution_count": 49,
   "id": "greatest-screen",
   "metadata": {},
   "outputs": [
    {
     "name": "stdout",
     "output_type": "stream",
     "text": [
      "                                     title  average_rating      bias\n",
      "0                               '71 (2014)        4.000000  0.498443\n",
      "1  'Hellboy': The Seeds of Creation (2004)        4.000000  0.498443\n",
      "2                   'Round Midnight (1986)        3.500000 -0.001557\n",
      "3                      'Salem's Lot (2004)        5.000000  1.498443\n",
      "4                'Til There Was You (1997)        4.000000  0.498443\n",
      "5          'Tis the Season for Love (2015)        1.500000 -2.001557\n",
      "6                       'burbs, The (1989)        3.176471 -0.325086\n",
      "7                     'night Mother (1986)        3.000000 -0.501557\n",
      "8              (500) Days of Summer (2009)        3.666667  0.165110\n",
      "9           *batteries not included (1987)        3.285714 -0.215843\n"
     ]
    }
   ],
   "source": [
    "# Write your code here\n",
    "movie_rating_bias_df = ml_movies_df.merge(ml_ratings_df, on='movieId')\n",
    "movie_rating_bias_df = movie_rating_bias_df.groupby('title').agg({'rating': 'sum', 'movieId':'count'}).reset_index()\n",
    "movie_rating_bias_df['average_rating'] = movie_rating_bias_df['rating']/movie_rating_bias_df['movieId']\n",
    "all_movies_avg_rating = ml_ratings_df['rating'].mean()\n",
    "movie_rating_bias_df['bias'] = movie_rating_bias_df['average_rating'] - all_movies_avg_rating\n",
    "movie_rating_bias_df = movie_rating_bias_df[['title', 'average_rating', 'bias']]\n",
    "print(movie_rating_bias_df.head(10))"
   ]
  },
  {
   "cell_type": "markdown",
   "id": "hawaiian-haiti",
   "metadata": {},
   "source": [
    "**Task 17.** Calculate each user rating bias (deviation from the mean of all users average rating). Print a DataFrame with the first 10 in the form: user_id, average rating, bias."
   ]
  },
  {
   "cell_type": "code",
   "execution_count": 50,
   "id": "charitable-guyana",
   "metadata": {},
   "outputs": [
    {
     "name": "stdout",
     "output_type": "stream",
     "text": [
      "   userId  average_rating      bias\n",
      "0       1        4.366379  0.864822\n",
      "1       2        3.948276  0.446719\n",
      "2       3        2.435897 -1.065660\n",
      "3       4        3.555556  0.053999\n",
      "4       5        3.636364  0.134807\n",
      "5       6        3.493631 -0.007926\n",
      "6       7        3.230263 -0.271294\n",
      "7       8        3.574468  0.072911\n",
      "8       9        3.260870 -0.240687\n",
      "9      10        3.278571 -0.222986\n"
     ]
    }
   ],
   "source": [
    "# Write your code here\n",
    "user_rating_bias_df = ml_ratings_df.groupby('userId').agg({'rating':'sum', 'movieId':'count'}).reset_index()\n",
    "user_rating_bias_df['average_rating'] = user_rating_bias_df['rating']/user_rating_bias_df['movieId']\n",
    "all_users_avg_rating = ml_ratings_df['rating'].mean()\n",
    "user_rating_bias_df['bias'] = user_rating_bias_df['average_rating']-all_users_avg_rating\n",
    "user_rating_bias_df = user_rating_bias_df[['userId','average_rating','bias']]\n",
    "print(user_rating_bias_df.head(10))"
   ]
  },
  {
   "cell_type": "markdown",
   "id": "intimate-porcelain",
   "metadata": {},
   "source": [
    "**Task 18.** Randomly choose 10 movies and 10 users and print their interaction matrix in the form of a DataFrame with user_id as index and movie titles as columns. You can iterate over the DataFrame in this task. Alternatively, try using the DataFrame pivot and reindex methods and compare the execution time. Initialize the numpy random number generator with seed=4321."
   ]
  },
  {
   "cell_type": "code",
   "execution_count": 74,
   "id": "brazilian-frost",
   "metadata": {},
   "outputs": [
    {
     "name": "stdout",
     "output_type": "stream",
     "text": [
      "     Father of the Bride (1950)  Matrix, The (1999)  Howards End (1992)  \\\n",
      "11                          0.0                 0.0                 0.0   \n",
      "277                         0.0                 0.0                 0.0   \n",
      "286                         0.0                 1.0                 0.0   \n",
      "357                         0.0                 0.0                 0.0   \n",
      "414                         0.0                 1.0                 0.0   \n",
      "428                         0.0                 1.0                 0.0   \n",
      "470                         0.0                 0.0                 0.0   \n",
      "487                         0.0                 1.0                 0.0   \n",
      "543                         0.0                 1.0                 0.0   \n",
      "544                         0.0                 0.0                 0.0   \n",
      "\n",
      "     Thirteen Conversations About One Thing (a.k.a. 13 Conversations) (2001)  \\\n",
      "11                                                 0.0                         \n",
      "277                                                0.0                         \n",
      "286                                                0.0                         \n",
      "357                                                0.0                         \n",
      "414                                                1.0                         \n",
      "428                                                0.0                         \n",
      "470                                                0.0                         \n",
      "487                                                0.0                         \n",
      "543                                                0.0                         \n",
      "544                                                0.0                         \n",
      "\n",
      "     It Runs in the Family (2003)  I Love You to Death (1990)  \\\n",
      "11                            0.0                         0.0   \n",
      "277                           0.0                         0.0   \n",
      "286                           0.0                         0.0   \n",
      "357                           0.0                         0.0   \n",
      "414                           0.0                         0.0   \n",
      "428                           0.0                         0.0   \n",
      "470                           0.0                         0.0   \n",
      "487                           0.0                         0.0   \n",
      "543                           0.0                         0.0   \n",
      "544                           0.0                         0.0   \n",
      "\n",
      "     Bedazzled (1967)  I Don't Know How She Does It (2011)  \\\n",
      "11                0.0                                  0.0   \n",
      "277               0.0                                  0.0   \n",
      "286               0.0                                  0.0   \n",
      "357               0.0                                  0.0   \n",
      "414               0.0                                  0.0   \n",
      "428               0.0                                  0.0   \n",
      "470               0.0                                  0.0   \n",
      "487               0.0                                  0.0   \n",
      "543               0.0                                  0.0   \n",
      "544               0.0                                  0.0   \n",
      "\n",
      "     Wind Rises, The (Kaze tachinu) (2013)  Night Guards (2016)  \n",
      "11                                     0.0                  0.0  \n",
      "277                                    0.0                  0.0  \n",
      "286                                    0.0                  0.0  \n",
      "357                                    0.0                  0.0  \n",
      "414                                    0.0                  0.0  \n",
      "428                                    0.0                  0.0  \n",
      "470                                    0.0                  0.0  \n",
      "487                                    0.0                  0.0  \n",
      "543                                    0.0                  0.0  \n",
      "544                                    0.0                  0.0  \n"
     ]
    }
   ],
   "source": [
    "# Write your code here\n",
    "user_ids = ml_df['userId'].unique()\n",
    "movie_ids = ml_df['movieId'].unique()\n",
    "rng = np.random.RandomState(seed=4321)\n",
    "user_ids = sorted(list(rng.choice(user_ids, size=10)))\n",
    "movie_ids = sorted(list(rng.choice(movie_ids, size=10)))\n",
    "\n",
    "ml_df_inter_matrix = ml_df[ml_df.movieId.isin(movie_ids)]\n",
    "ml_df_inter_matrix = ml_df_inter_matrix[ml_df_inter_matrix.userId.isin(user_ids)][['userId', 'title']]\n",
    "ml_df_inter_matrix_output = pd.DataFrame(0.0, index=user_ids, columns=ml_df[ml_df.movieId.isin(movie_ids)].sort_values(by='movieId')['title'].unique())\n",
    "\n",
    "for row in ml_df_inter_matrix.itertuples():\n",
    "    ml_df_inter_matrix_output.loc[row.userId, row.title] = 1.0\n",
    "\n",
    "print(ml_df_inter_matrix_output)"
   ]
  },
  {
   "cell_type": "markdown",
   "id": "boolean-modem",
   "metadata": {},
   "source": [
    "## Pandas + numpy tasks"
   ]
  },
  {
   "cell_type": "markdown",
   "id": "worldwide-disclaimer",
   "metadata": {},
   "source": [
    "**Task 19.** Create the entire interaction matrix (2D numpy array) for the MovieLens dataset. Print the submatrix of the first 10 rows and 10 columns."
   ]
  },
  {
   "cell_type": "code",
   "execution_count": 113,
   "id": "marine-initial",
   "metadata": {},
   "outputs": [
    {
     "name": "stdout",
     "output_type": "stream",
     "text": [
      "[[0. 0. 0. 0. 0. 0. 0. 0. 0. 0.]\n",
      " [0. 1. 0. 1. 0. 0. 1. 0. 0. 0.]\n",
      " [0. 0. 0. 0. 0. 0. 0. 0. 0. 0.]\n",
      " [0. 0. 0. 0. 0. 0. 0. 0. 0. 0.]\n",
      " [0. 0. 0. 0. 0. 0. 0. 0. 0. 0.]\n",
      " [0. 1. 0. 0. 0. 0. 0. 0. 0. 0.]\n",
      " [0. 0. 1. 1. 1. 1. 1. 1. 1. 0.]\n",
      " [0. 1. 0. 0. 0. 0. 0. 0. 0. 0.]\n",
      " [0. 0. 1. 0. 0. 0. 0. 0. 0. 0.]\n",
      " [0. 0. 0. 0. 0. 0. 0. 0. 0. 0.]]\n"
     ]
    }
   ],
   "source": [
    "# Write your code here\n",
    "def func_1(x):\n",
    "    return int(x.values[0] > 0)\n",
    "\n",
    "table_df = ml_df.loc[ml_df['userId'] > 0, ['userId', 'movieId', 'title', 'rating']].pivot_table(index='userId', columns=['movieId', 'title'], aggfunc=func_1, fill_value=0).iloc[:9, :9]\n",
    "table_df.columns = table_df.columns.map(lambda x: x[2])\n",
    "\n",
    "result = np.zeros((10, 10))\n",
    "result[1:10, 1:10] = table_df\n",
    "\n",
    "print(result)"
   ]
  },
  {
   "cell_type": "markdown",
   "id": "micro-vision",
   "metadata": {},
   "source": [
    "**Task 20.** Calculate the matrix of size (n_users, n_users) where at position (i, j) there is the number of movies watched both by user i and user j. Use a single matrix multiplication to obtain the result. Print the submatrix of first 10 rows and 10 columns."
   ]
  },
  {
   "cell_type": "code",
   "execution_count": 72,
   "id": "swedish-lambda",
   "metadata": {},
   "outputs": [
    {
     "name": "stdout",
     "output_type": "stream",
     "text": [
      "[[  0.   0.   0.   0.   0.   0.   0.   0.   0.   0.]\n",
      " [  0. 232.   2.   7.  45.  13.  33.  26.  15.   5.]\n",
      " [  0.   2.  29.   0.   1.   1.   2.   3.   1.   0.]\n",
      " [  0.   7.   0.  39.   1.   1.   3.   0.   1.   0.]\n",
      " [  0.  45.   1.   1. 216.  12.  27.  22.   9.   1.]\n",
      " [  0.  13.   1.   1.  12.  44.  36.   9.  19.   0.]\n",
      " [  0.  33.   2.   3.  27.  36. 314.  14.  44.   2.]\n",
      " [  0.  26.   3.   0.  22.   9.  14. 152.   8.   6.]\n",
      " [  0.  15.   1.   1.   9.  19.  44.   8.  47.   0.]\n",
      " [  0.   5.   0.   0.   1.   0.   2.   6.   0.  46.]]\n"
     ]
    }
   ],
   "source": [
    "# Write your code here\n",
    "def count_movies(movies_1, movies_2):\n",
    "    return len(set(movies_1) & set(movies_2))\n",
    "\n",
    "\n",
    "movie_n_users_df = ml_df[['userId', 'movieId']].groupby(['userId'])['movieId'].apply(list).to_frame()\n",
    "\n",
    "new_movie_n_users_df = pd.concat([ml_df[['userId', 'movieId']].groupby(['userId'])['movieId'].apply(list).to_frame(),\n",
    "                                  pd.DataFrame(columns=ml_df['userId'].unique(), index=ml_df['userId'].unique(), dtype=int)], \n",
    "                                  axis=1).fillna(0)\n",
    "\n",
    "n_users = len(movie_n_users_df)\n",
    "\n",
    "n_users_matrix = np.zeros((n_users+1, n_users+1))\n",
    "\n",
    "for row_1 in new_movie_n_users_df.itertuples():\n",
    "    n_users_matrix[row_1.Index, row_1.Index] = len(row_1.movieId)\n",
    "    for row_2 in movie_n_users_df[row_1.Index:].itertuples():\n",
    "        n_users_matrix[row_2.Index, row_1.Index] = count_movies(row_1.movieId, row_2.movieId)\n",
    "        n_users_matrix[row_1.Index, row_2.Index] = count_movies(row_1.movieId, row_2.movieId)\n",
    "\n",
    "print(n_users_matrix[:10, :10])"
   ]
  },
  {
   "cell_type": "markdown",
   "id": "shaped-advance",
   "metadata": {},
   "source": [
    "**Task 21.** Calculate the matrix of size (n_items, n_items) where at position (i, j) there is the number of users who watched both movie i and movie j. Use a single matrix multiplication to obtain the result. To prevent memory error use only the first 1000 items. Print the submatrix of first 10 rows and 10 columns."
   ]
  },
  {
   "cell_type": "code",
   "execution_count": 89,
   "id": "quality-bubble",
   "metadata": {},
   "outputs": [
    {
     "name": "stdout",
     "output_type": "stream",
     "text": [
      "[[  0.   0.   0.   0.   0.   0.   0.   0.   0.   0.]\n",
      " [  0. 215.  68.  32.   2.  32.  58.  32.   5.  12.]\n",
      " [  0.  68. 110.  26.   3.  22.  36.  18.   6.   3.]\n",
      " [  0.  32.  26.  52.   1.  19.  25.  19.   4.   9.]\n",
      " [  0.   2.   3.   1.   7.   3.   2.   6.   1.   0.]\n",
      " [  0.  32.  22.  19.   3.  49.  24.  23.   4.   9.]\n",
      " [  0.  58.  36.  25.   2.  24. 102.  22.   5.   9.]\n",
      " [  0.  32.  18.  19.   6.  23.  22.  54.   4.   5.]\n",
      " [  0.   5.   6.   4.   1.   4.   5.   4.   8.   0.]\n",
      " [  0.  12.   3.   9.   0.   9.   9.   5.   0.  16.]]\n"
     ]
    }
   ],
   "source": [
    "# Write your code here\n",
    "def count_users(users_1, users_2):\n",
    "    return len(set(users_1) & set(users_2))\n",
    "\n",
    "users_n_items_df = ml_df[['userId', 'movieId']].groupby(['movieId'])['userId'].apply(list).to_frame()[:9]\n",
    "\n",
    "n_items_matrix = np.zeros((10, 10))\n",
    "\n",
    "for row_1 in users_n_items_df.itertuples():\n",
    "    n_items_matrix[row_1.Index, row_1.Index] = len(row_1.userId)\n",
    "    for row_2 in users_n_items_df[row_1.Index:].itertuples():\n",
    "        n_items_matrix[row_2.Index, row_1.Index] = count_users(row_1.userId, row_2.userId)\n",
    "        n_items_matrix[row_1.Index, row_2.Index] = count_users(row_1.userId, row_2.userId)\n",
    "\n",
    "print(n_items_matrix[:10, :10])"
   ]
  },
  {
   "cell_type": "code",
   "execution_count": null,
   "id": "a802d34d",
   "metadata": {},
   "outputs": [],
   "source": []
  }
 ],
 "metadata": {
  "kernelspec": {
   "display_name": "Python 3 (ipykernel)",
   "language": "python",
   "name": "python3"
  },
  "language_info": {
   "codemirror_mode": {
    "name": "ipython",
    "version": 3
   },
   "file_extension": ".py",
   "mimetype": "text/x-python",
   "name": "python",
   "nbconvert_exporter": "python",
   "pygments_lexer": "ipython3",
   "version": "3.9.12"
  }
 },
 "nbformat": 4,
 "nbformat_minor": 5
}
